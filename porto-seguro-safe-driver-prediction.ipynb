{
 "cells": [
  {
   "cell_type": "code",
   "execution_count": 13,
   "id": "a850b81d-0fab-45d1-87f1-ff0efdd90781",
   "metadata": {},
   "outputs": [],
   "source": [
    "# predict the probability that an auto insurance policy holder files a claim\n",
    "# random_state as var\n",
    "# ensure test data properly used"
   ]
  },
  {
   "cell_type": "code",
   "execution_count": 14,
   "id": "1a1723ce-3f81-475f-ab85-3ed403b3b591",
   "metadata": {},
   "outputs": [],
   "source": [
    "import os\n",
    "import pandas as pd\n",
    "import numpy as np\n",
    "from collections import Counter\n",
    "# from IPython.display import display # better for large datasets\n",
    "from sklearn.impute import SimpleImputer\n",
    "from sklearn.model_selection import train_test_split, RepeatedStratifiedKFold, cross_val_score\n",
    "from sklearn.preprocessing import StandardScaler, PowerTransformer\n",
    "from sklearn.feature_selection import SelectKBest, mutual_info_classif\n",
    "from sklearn.linear_model import LogisticRegression \n",
    "from sklearn.neighbors import KNeighborsClassifier\n",
    "from sklearn.metrics import log_loss, roc_auc_score, brier_score_loss\n",
    "\n",
    "import matplotlib.pyplot as plt\n",
    "import seaborn as sns\n",
    "\n",
    "import warnings\n",
    "warnings.filterwarnings('ignore')"
   ]
  },
  {
   "cell_type": "code",
   "execution_count": 15,
   "id": "40358fa5-abd3-4379-880a-d15a6668f942",
   "metadata": {},
   "outputs": [],
   "source": [
    "os.chdir(\"C:\\\\Users\\\\A459648\\\\dsprojects\\\\porto-seguro-safe-driver-prediction\")\n",
    "#os.chdir(\"C:\\\\Users\\\\micha\\\\ds_data\\\\porto-seguro-safe-driver-prediction\")"
   ]
  },
  {
   "cell_type": "code",
   "execution_count": 16,
   "id": "ea5f19cf-c022-4402-a003-ce7c61f7751a",
   "metadata": {},
   "outputs": [],
   "source": [
    "cdir = os.getcwd()"
   ]
  },
  {
   "cell_type": "code",
   "execution_count": 17,
   "id": "a33d364f-fb67-4572-87e2-07fa2af761f7",
   "metadata": {},
   "outputs": [],
   "source": [
    "pd.set_option('display.max_columns', 100)  # or 1000\n",
    "# pd.set_option('display.max_colwidth', None)  # or 199\n",
    "pd.set_option('display.max_rows', 100)  # or 1000\n",
    "# pd.set_option('display.max_colwidth', None)  # or 199\n",
    "\n",
    "# pd.reset_option('all')"
   ]
  },
  {
   "cell_type": "code",
   "execution_count": 18,
   "id": "cd650db6-fc40-4749-8e25-70fa5c11f771",
   "metadata": {},
   "outputs": [],
   "source": [
    "train_df = pd.read_csv(cdir + \"\\\\\" + \"train.csv\")"
   ]
  },
  {
   "cell_type": "markdown",
   "id": "0df949c2-0022-4f3b-8106-b0ce2ed8fafc",
   "metadata": {},
   "source": [
    "### First look at dataset"
   ]
  },
  {
   "cell_type": "code",
   "execution_count": 19,
   "id": "05e8972e-9147-41dd-be15-f08922c7aacc",
   "metadata": {},
   "outputs": [
    {
     "data": {
      "text/html": [
       "<div>\n",
       "<style scoped>\n",
       "    .dataframe tbody tr th:only-of-type {\n",
       "        vertical-align: middle;\n",
       "    }\n",
       "\n",
       "    .dataframe tbody tr th {\n",
       "        vertical-align: top;\n",
       "    }\n",
       "\n",
       "    .dataframe thead th {\n",
       "        text-align: right;\n",
       "    }\n",
       "</style>\n",
       "<table border=\"1\" class=\"dataframe\">\n",
       "  <thead>\n",
       "    <tr style=\"text-align: right;\">\n",
       "      <th></th>\n",
       "      <th>id</th>\n",
       "      <th>target</th>\n",
       "      <th>ps_ind_01</th>\n",
       "      <th>ps_ind_02_cat</th>\n",
       "      <th>ps_ind_03</th>\n",
       "      <th>ps_ind_04_cat</th>\n",
       "      <th>ps_ind_05_cat</th>\n",
       "      <th>ps_ind_06_bin</th>\n",
       "      <th>ps_ind_07_bin</th>\n",
       "      <th>ps_ind_08_bin</th>\n",
       "      <th>ps_ind_09_bin</th>\n",
       "      <th>ps_ind_10_bin</th>\n",
       "      <th>ps_ind_11_bin</th>\n",
       "      <th>ps_ind_12_bin</th>\n",
       "      <th>ps_ind_13_bin</th>\n",
       "      <th>ps_ind_14</th>\n",
       "      <th>ps_ind_15</th>\n",
       "      <th>ps_ind_16_bin</th>\n",
       "      <th>ps_ind_17_bin</th>\n",
       "      <th>ps_ind_18_bin</th>\n",
       "      <th>ps_reg_01</th>\n",
       "      <th>ps_reg_02</th>\n",
       "      <th>ps_reg_03</th>\n",
       "      <th>ps_car_01_cat</th>\n",
       "      <th>ps_car_02_cat</th>\n",
       "      <th>ps_car_03_cat</th>\n",
       "      <th>ps_car_04_cat</th>\n",
       "      <th>ps_car_05_cat</th>\n",
       "      <th>ps_car_06_cat</th>\n",
       "      <th>ps_car_07_cat</th>\n",
       "      <th>ps_car_08_cat</th>\n",
       "      <th>ps_car_09_cat</th>\n",
       "      <th>ps_car_10_cat</th>\n",
       "      <th>ps_car_11_cat</th>\n",
       "      <th>ps_car_11</th>\n",
       "      <th>ps_car_12</th>\n",
       "      <th>ps_car_13</th>\n",
       "      <th>ps_car_14</th>\n",
       "      <th>ps_car_15</th>\n",
       "      <th>ps_calc_01</th>\n",
       "      <th>ps_calc_02</th>\n",
       "      <th>ps_calc_03</th>\n",
       "      <th>ps_calc_04</th>\n",
       "      <th>ps_calc_05</th>\n",
       "      <th>ps_calc_06</th>\n",
       "      <th>ps_calc_07</th>\n",
       "      <th>ps_calc_08</th>\n",
       "      <th>ps_calc_09</th>\n",
       "      <th>ps_calc_10</th>\n",
       "      <th>ps_calc_11</th>\n",
       "      <th>ps_calc_12</th>\n",
       "      <th>ps_calc_13</th>\n",
       "      <th>ps_calc_14</th>\n",
       "      <th>ps_calc_15_bin</th>\n",
       "      <th>ps_calc_16_bin</th>\n",
       "      <th>ps_calc_17_bin</th>\n",
       "      <th>ps_calc_18_bin</th>\n",
       "      <th>ps_calc_19_bin</th>\n",
       "      <th>ps_calc_20_bin</th>\n",
       "    </tr>\n",
       "  </thead>\n",
       "  <tbody>\n",
       "    <tr>\n",
       "      <th>0</th>\n",
       "      <td>7</td>\n",
       "      <td>0</td>\n",
       "      <td>2</td>\n",
       "      <td>2</td>\n",
       "      <td>5</td>\n",
       "      <td>1</td>\n",
       "      <td>0</td>\n",
       "      <td>0</td>\n",
       "      <td>1</td>\n",
       "      <td>0</td>\n",
       "      <td>0</td>\n",
       "      <td>0</td>\n",
       "      <td>0</td>\n",
       "      <td>0</td>\n",
       "      <td>0</td>\n",
       "      <td>0</td>\n",
       "      <td>11</td>\n",
       "      <td>0</td>\n",
       "      <td>1</td>\n",
       "      <td>0</td>\n",
       "      <td>0.7</td>\n",
       "      <td>0.2</td>\n",
       "      <td>0.718070</td>\n",
       "      <td>10</td>\n",
       "      <td>1</td>\n",
       "      <td>-1</td>\n",
       "      <td>0</td>\n",
       "      <td>1</td>\n",
       "      <td>4</td>\n",
       "      <td>1</td>\n",
       "      <td>0</td>\n",
       "      <td>0</td>\n",
       "      <td>1</td>\n",
       "      <td>12</td>\n",
       "      <td>2</td>\n",
       "      <td>0.400000</td>\n",
       "      <td>0.883679</td>\n",
       "      <td>0.370810</td>\n",
       "      <td>3.605551</td>\n",
       "      <td>0.6</td>\n",
       "      <td>0.5</td>\n",
       "      <td>0.2</td>\n",
       "      <td>3</td>\n",
       "      <td>1</td>\n",
       "      <td>10</td>\n",
       "      <td>1</td>\n",
       "      <td>10</td>\n",
       "      <td>1</td>\n",
       "      <td>5</td>\n",
       "      <td>9</td>\n",
       "      <td>1</td>\n",
       "      <td>5</td>\n",
       "      <td>8</td>\n",
       "      <td>0</td>\n",
       "      <td>1</td>\n",
       "      <td>1</td>\n",
       "      <td>0</td>\n",
       "      <td>0</td>\n",
       "      <td>1</td>\n",
       "    </tr>\n",
       "    <tr>\n",
       "      <th>1</th>\n",
       "      <td>9</td>\n",
       "      <td>0</td>\n",
       "      <td>1</td>\n",
       "      <td>1</td>\n",
       "      <td>7</td>\n",
       "      <td>0</td>\n",
       "      <td>0</td>\n",
       "      <td>0</td>\n",
       "      <td>0</td>\n",
       "      <td>1</td>\n",
       "      <td>0</td>\n",
       "      <td>0</td>\n",
       "      <td>0</td>\n",
       "      <td>0</td>\n",
       "      <td>0</td>\n",
       "      <td>0</td>\n",
       "      <td>3</td>\n",
       "      <td>0</td>\n",
       "      <td>0</td>\n",
       "      <td>1</td>\n",
       "      <td>0.8</td>\n",
       "      <td>0.4</td>\n",
       "      <td>0.766078</td>\n",
       "      <td>11</td>\n",
       "      <td>1</td>\n",
       "      <td>-1</td>\n",
       "      <td>0</td>\n",
       "      <td>-1</td>\n",
       "      <td>11</td>\n",
       "      <td>1</td>\n",
       "      <td>1</td>\n",
       "      <td>2</td>\n",
       "      <td>1</td>\n",
       "      <td>19</td>\n",
       "      <td>3</td>\n",
       "      <td>0.316228</td>\n",
       "      <td>0.618817</td>\n",
       "      <td>0.388716</td>\n",
       "      <td>2.449490</td>\n",
       "      <td>0.3</td>\n",
       "      <td>0.1</td>\n",
       "      <td>0.3</td>\n",
       "      <td>2</td>\n",
       "      <td>1</td>\n",
       "      <td>9</td>\n",
       "      <td>5</td>\n",
       "      <td>8</td>\n",
       "      <td>1</td>\n",
       "      <td>7</td>\n",
       "      <td>3</td>\n",
       "      <td>1</td>\n",
       "      <td>1</td>\n",
       "      <td>9</td>\n",
       "      <td>0</td>\n",
       "      <td>1</td>\n",
       "      <td>1</td>\n",
       "      <td>0</td>\n",
       "      <td>1</td>\n",
       "      <td>0</td>\n",
       "    </tr>\n",
       "    <tr>\n",
       "      <th>2</th>\n",
       "      <td>13</td>\n",
       "      <td>0</td>\n",
       "      <td>5</td>\n",
       "      <td>4</td>\n",
       "      <td>9</td>\n",
       "      <td>1</td>\n",
       "      <td>0</td>\n",
       "      <td>0</td>\n",
       "      <td>0</td>\n",
       "      <td>1</td>\n",
       "      <td>0</td>\n",
       "      <td>0</td>\n",
       "      <td>0</td>\n",
       "      <td>0</td>\n",
       "      <td>0</td>\n",
       "      <td>0</td>\n",
       "      <td>12</td>\n",
       "      <td>1</td>\n",
       "      <td>0</td>\n",
       "      <td>0</td>\n",
       "      <td>0.0</td>\n",
       "      <td>0.0</td>\n",
       "      <td>-1.000000</td>\n",
       "      <td>7</td>\n",
       "      <td>1</td>\n",
       "      <td>-1</td>\n",
       "      <td>0</td>\n",
       "      <td>-1</td>\n",
       "      <td>14</td>\n",
       "      <td>1</td>\n",
       "      <td>1</td>\n",
       "      <td>2</td>\n",
       "      <td>1</td>\n",
       "      <td>60</td>\n",
       "      <td>1</td>\n",
       "      <td>0.316228</td>\n",
       "      <td>0.641586</td>\n",
       "      <td>0.347275</td>\n",
       "      <td>3.316625</td>\n",
       "      <td>0.5</td>\n",
       "      <td>0.7</td>\n",
       "      <td>0.1</td>\n",
       "      <td>2</td>\n",
       "      <td>2</td>\n",
       "      <td>9</td>\n",
       "      <td>1</td>\n",
       "      <td>8</td>\n",
       "      <td>2</td>\n",
       "      <td>7</td>\n",
       "      <td>4</td>\n",
       "      <td>2</td>\n",
       "      <td>7</td>\n",
       "      <td>7</td>\n",
       "      <td>0</td>\n",
       "      <td>1</td>\n",
       "      <td>1</td>\n",
       "      <td>0</td>\n",
       "      <td>1</td>\n",
       "      <td>0</td>\n",
       "    </tr>\n",
       "    <tr>\n",
       "      <th>3</th>\n",
       "      <td>16</td>\n",
       "      <td>0</td>\n",
       "      <td>0</td>\n",
       "      <td>1</td>\n",
       "      <td>2</td>\n",
       "      <td>0</td>\n",
       "      <td>0</td>\n",
       "      <td>1</td>\n",
       "      <td>0</td>\n",
       "      <td>0</td>\n",
       "      <td>0</td>\n",
       "      <td>0</td>\n",
       "      <td>0</td>\n",
       "      <td>0</td>\n",
       "      <td>0</td>\n",
       "      <td>0</td>\n",
       "      <td>8</td>\n",
       "      <td>1</td>\n",
       "      <td>0</td>\n",
       "      <td>0</td>\n",
       "      <td>0.9</td>\n",
       "      <td>0.2</td>\n",
       "      <td>0.580948</td>\n",
       "      <td>7</td>\n",
       "      <td>1</td>\n",
       "      <td>0</td>\n",
       "      <td>0</td>\n",
       "      <td>1</td>\n",
       "      <td>11</td>\n",
       "      <td>1</td>\n",
       "      <td>1</td>\n",
       "      <td>3</td>\n",
       "      <td>1</td>\n",
       "      <td>104</td>\n",
       "      <td>1</td>\n",
       "      <td>0.374166</td>\n",
       "      <td>0.542949</td>\n",
       "      <td>0.294958</td>\n",
       "      <td>2.000000</td>\n",
       "      <td>0.6</td>\n",
       "      <td>0.9</td>\n",
       "      <td>0.1</td>\n",
       "      <td>2</td>\n",
       "      <td>4</td>\n",
       "      <td>7</td>\n",
       "      <td>1</td>\n",
       "      <td>8</td>\n",
       "      <td>4</td>\n",
       "      <td>2</td>\n",
       "      <td>2</td>\n",
       "      <td>2</td>\n",
       "      <td>4</td>\n",
       "      <td>9</td>\n",
       "      <td>0</td>\n",
       "      <td>0</td>\n",
       "      <td>0</td>\n",
       "      <td>0</td>\n",
       "      <td>0</td>\n",
       "      <td>0</td>\n",
       "    </tr>\n",
       "    <tr>\n",
       "      <th>4</th>\n",
       "      <td>17</td>\n",
       "      <td>0</td>\n",
       "      <td>0</td>\n",
       "      <td>2</td>\n",
       "      <td>0</td>\n",
       "      <td>1</td>\n",
       "      <td>0</td>\n",
       "      <td>1</td>\n",
       "      <td>0</td>\n",
       "      <td>0</td>\n",
       "      <td>0</td>\n",
       "      <td>0</td>\n",
       "      <td>0</td>\n",
       "      <td>0</td>\n",
       "      <td>0</td>\n",
       "      <td>0</td>\n",
       "      <td>9</td>\n",
       "      <td>1</td>\n",
       "      <td>0</td>\n",
       "      <td>0</td>\n",
       "      <td>0.7</td>\n",
       "      <td>0.6</td>\n",
       "      <td>0.840759</td>\n",
       "      <td>11</td>\n",
       "      <td>1</td>\n",
       "      <td>-1</td>\n",
       "      <td>0</td>\n",
       "      <td>-1</td>\n",
       "      <td>14</td>\n",
       "      <td>1</td>\n",
       "      <td>1</td>\n",
       "      <td>2</td>\n",
       "      <td>1</td>\n",
       "      <td>82</td>\n",
       "      <td>3</td>\n",
       "      <td>0.316070</td>\n",
       "      <td>0.565832</td>\n",
       "      <td>0.365103</td>\n",
       "      <td>2.000000</td>\n",
       "      <td>0.4</td>\n",
       "      <td>0.6</td>\n",
       "      <td>0.0</td>\n",
       "      <td>2</td>\n",
       "      <td>2</td>\n",
       "      <td>6</td>\n",
       "      <td>3</td>\n",
       "      <td>10</td>\n",
       "      <td>2</td>\n",
       "      <td>12</td>\n",
       "      <td>3</td>\n",
       "      <td>1</td>\n",
       "      <td>1</td>\n",
       "      <td>3</td>\n",
       "      <td>0</td>\n",
       "      <td>0</td>\n",
       "      <td>0</td>\n",
       "      <td>1</td>\n",
       "      <td>1</td>\n",
       "      <td>0</td>\n",
       "    </tr>\n",
       "    <tr>\n",
       "      <th>5</th>\n",
       "      <td>19</td>\n",
       "      <td>0</td>\n",
       "      <td>5</td>\n",
       "      <td>1</td>\n",
       "      <td>4</td>\n",
       "      <td>0</td>\n",
       "      <td>0</td>\n",
       "      <td>0</td>\n",
       "      <td>0</td>\n",
       "      <td>0</td>\n",
       "      <td>1</td>\n",
       "      <td>0</td>\n",
       "      <td>0</td>\n",
       "      <td>0</td>\n",
       "      <td>0</td>\n",
       "      <td>0</td>\n",
       "      <td>6</td>\n",
       "      <td>1</td>\n",
       "      <td>0</td>\n",
       "      <td>0</td>\n",
       "      <td>0.9</td>\n",
       "      <td>1.8</td>\n",
       "      <td>2.332649</td>\n",
       "      <td>10</td>\n",
       "      <td>0</td>\n",
       "      <td>-1</td>\n",
       "      <td>0</td>\n",
       "      <td>0</td>\n",
       "      <td>14</td>\n",
       "      <td>1</td>\n",
       "      <td>1</td>\n",
       "      <td>0</td>\n",
       "      <td>1</td>\n",
       "      <td>104</td>\n",
       "      <td>2</td>\n",
       "      <td>0.445982</td>\n",
       "      <td>0.879049</td>\n",
       "      <td>0.406202</td>\n",
       "      <td>3.000000</td>\n",
       "      <td>0.7</td>\n",
       "      <td>0.8</td>\n",
       "      <td>0.4</td>\n",
       "      <td>3</td>\n",
       "      <td>1</td>\n",
       "      <td>8</td>\n",
       "      <td>2</td>\n",
       "      <td>11</td>\n",
       "      <td>3</td>\n",
       "      <td>8</td>\n",
       "      <td>4</td>\n",
       "      <td>2</td>\n",
       "      <td>0</td>\n",
       "      <td>9</td>\n",
       "      <td>0</td>\n",
       "      <td>1</td>\n",
       "      <td>0</td>\n",
       "      <td>1</td>\n",
       "      <td>1</td>\n",
       "      <td>1</td>\n",
       "    </tr>\n",
       "    <tr>\n",
       "      <th>6</th>\n",
       "      <td>20</td>\n",
       "      <td>0</td>\n",
       "      <td>2</td>\n",
       "      <td>1</td>\n",
       "      <td>3</td>\n",
       "      <td>1</td>\n",
       "      <td>0</td>\n",
       "      <td>0</td>\n",
       "      <td>1</td>\n",
       "      <td>0</td>\n",
       "      <td>0</td>\n",
       "      <td>0</td>\n",
       "      <td>0</td>\n",
       "      <td>0</td>\n",
       "      <td>0</td>\n",
       "      <td>0</td>\n",
       "      <td>8</td>\n",
       "      <td>1</td>\n",
       "      <td>0</td>\n",
       "      <td>0</td>\n",
       "      <td>0.6</td>\n",
       "      <td>0.1</td>\n",
       "      <td>0.617454</td>\n",
       "      <td>6</td>\n",
       "      <td>1</td>\n",
       "      <td>-1</td>\n",
       "      <td>0</td>\n",
       "      <td>1</td>\n",
       "      <td>11</td>\n",
       "      <td>1</td>\n",
       "      <td>1</td>\n",
       "      <td>0</td>\n",
       "      <td>1</td>\n",
       "      <td>99</td>\n",
       "      <td>2</td>\n",
       "      <td>0.316228</td>\n",
       "      <td>0.639683</td>\n",
       "      <td>0.368782</td>\n",
       "      <td>3.162278</td>\n",
       "      <td>0.2</td>\n",
       "      <td>0.6</td>\n",
       "      <td>0.5</td>\n",
       "      <td>2</td>\n",
       "      <td>2</td>\n",
       "      <td>8</td>\n",
       "      <td>1</td>\n",
       "      <td>8</td>\n",
       "      <td>3</td>\n",
       "      <td>10</td>\n",
       "      <td>3</td>\n",
       "      <td>0</td>\n",
       "      <td>0</td>\n",
       "      <td>10</td>\n",
       "      <td>0</td>\n",
       "      <td>1</td>\n",
       "      <td>0</td>\n",
       "      <td>0</td>\n",
       "      <td>1</td>\n",
       "      <td>0</td>\n",
       "    </tr>\n",
       "    <tr>\n",
       "      <th>7</th>\n",
       "      <td>22</td>\n",
       "      <td>0</td>\n",
       "      <td>5</td>\n",
       "      <td>1</td>\n",
       "      <td>4</td>\n",
       "      <td>0</td>\n",
       "      <td>0</td>\n",
       "      <td>1</td>\n",
       "      <td>0</td>\n",
       "      <td>0</td>\n",
       "      <td>0</td>\n",
       "      <td>0</td>\n",
       "      <td>0</td>\n",
       "      <td>0</td>\n",
       "      <td>0</td>\n",
       "      <td>0</td>\n",
       "      <td>13</td>\n",
       "      <td>1</td>\n",
       "      <td>0</td>\n",
       "      <td>0</td>\n",
       "      <td>0.7</td>\n",
       "      <td>0.4</td>\n",
       "      <td>0.607248</td>\n",
       "      <td>11</td>\n",
       "      <td>1</td>\n",
       "      <td>0</td>\n",
       "      <td>0</td>\n",
       "      <td>0</td>\n",
       "      <td>11</td>\n",
       "      <td>1</td>\n",
       "      <td>1</td>\n",
       "      <td>2</td>\n",
       "      <td>1</td>\n",
       "      <td>30</td>\n",
       "      <td>3</td>\n",
       "      <td>0.446990</td>\n",
       "      <td>0.900574</td>\n",
       "      <td>0.374833</td>\n",
       "      <td>3.316625</td>\n",
       "      <td>0.1</td>\n",
       "      <td>0.5</td>\n",
       "      <td>0.1</td>\n",
       "      <td>1</td>\n",
       "      <td>2</td>\n",
       "      <td>7</td>\n",
       "      <td>1</td>\n",
       "      <td>6</td>\n",
       "      <td>1</td>\n",
       "      <td>13</td>\n",
       "      <td>7</td>\n",
       "      <td>1</td>\n",
       "      <td>3</td>\n",
       "      <td>6</td>\n",
       "      <td>1</td>\n",
       "      <td>0</td>\n",
       "      <td>1</td>\n",
       "      <td>0</td>\n",
       "      <td>1</td>\n",
       "      <td>0</td>\n",
       "    </tr>\n",
       "    <tr>\n",
       "      <th>8</th>\n",
       "      <td>26</td>\n",
       "      <td>0</td>\n",
       "      <td>5</td>\n",
       "      <td>1</td>\n",
       "      <td>3</td>\n",
       "      <td>1</td>\n",
       "      <td>0</td>\n",
       "      <td>0</td>\n",
       "      <td>0</td>\n",
       "      <td>1</td>\n",
       "      <td>0</td>\n",
       "      <td>0</td>\n",
       "      <td>0</td>\n",
       "      <td>0</td>\n",
       "      <td>0</td>\n",
       "      <td>0</td>\n",
       "      <td>6</td>\n",
       "      <td>1</td>\n",
       "      <td>0</td>\n",
       "      <td>0</td>\n",
       "      <td>0.9</td>\n",
       "      <td>0.7</td>\n",
       "      <td>0.901388</td>\n",
       "      <td>10</td>\n",
       "      <td>1</td>\n",
       "      <td>-1</td>\n",
       "      <td>0</td>\n",
       "      <td>1</td>\n",
       "      <td>14</td>\n",
       "      <td>1</td>\n",
       "      <td>1</td>\n",
       "      <td>0</td>\n",
       "      <td>1</td>\n",
       "      <td>68</td>\n",
       "      <td>3</td>\n",
       "      <td>0.400000</td>\n",
       "      <td>0.780641</td>\n",
       "      <td>0.407431</td>\n",
       "      <td>2.828427</td>\n",
       "      <td>0.9</td>\n",
       "      <td>0.8</td>\n",
       "      <td>0.6</td>\n",
       "      <td>3</td>\n",
       "      <td>1</td>\n",
       "      <td>7</td>\n",
       "      <td>3</td>\n",
       "      <td>9</td>\n",
       "      <td>4</td>\n",
       "      <td>11</td>\n",
       "      <td>4</td>\n",
       "      <td>2</td>\n",
       "      <td>1</td>\n",
       "      <td>5</td>\n",
       "      <td>0</td>\n",
       "      <td>1</td>\n",
       "      <td>0</td>\n",
       "      <td>0</td>\n",
       "      <td>0</td>\n",
       "      <td>1</td>\n",
       "    </tr>\n",
       "    <tr>\n",
       "      <th>9</th>\n",
       "      <td>28</td>\n",
       "      <td>1</td>\n",
       "      <td>1</td>\n",
       "      <td>1</td>\n",
       "      <td>2</td>\n",
       "      <td>0</td>\n",
       "      <td>0</td>\n",
       "      <td>0</td>\n",
       "      <td>1</td>\n",
       "      <td>0</td>\n",
       "      <td>0</td>\n",
       "      <td>0</td>\n",
       "      <td>0</td>\n",
       "      <td>0</td>\n",
       "      <td>0</td>\n",
       "      <td>0</td>\n",
       "      <td>4</td>\n",
       "      <td>0</td>\n",
       "      <td>0</td>\n",
       "      <td>1</td>\n",
       "      <td>0.9</td>\n",
       "      <td>1.4</td>\n",
       "      <td>2.316652</td>\n",
       "      <td>11</td>\n",
       "      <td>0</td>\n",
       "      <td>0</td>\n",
       "      <td>1</td>\n",
       "      <td>0</td>\n",
       "      <td>14</td>\n",
       "      <td>1</td>\n",
       "      <td>1</td>\n",
       "      <td>2</td>\n",
       "      <td>1</td>\n",
       "      <td>104</td>\n",
       "      <td>2</td>\n",
       "      <td>0.447214</td>\n",
       "      <td>1.458184</td>\n",
       "      <td>0.390256</td>\n",
       "      <td>3.605551</td>\n",
       "      <td>0.7</td>\n",
       "      <td>0.8</td>\n",
       "      <td>0.8</td>\n",
       "      <td>2</td>\n",
       "      <td>2</td>\n",
       "      <td>8</td>\n",
       "      <td>2</td>\n",
       "      <td>9</td>\n",
       "      <td>1</td>\n",
       "      <td>11</td>\n",
       "      <td>3</td>\n",
       "      <td>5</td>\n",
       "      <td>0</td>\n",
       "      <td>6</td>\n",
       "      <td>0</td>\n",
       "      <td>1</td>\n",
       "      <td>0</td>\n",
       "      <td>0</td>\n",
       "      <td>1</td>\n",
       "      <td>0</td>\n",
       "    </tr>\n",
       "  </tbody>\n",
       "</table>\n",
       "</div>"
      ],
      "text/plain": [
       "   id  target  ps_ind_01  ps_ind_02_cat  ps_ind_03  ps_ind_04_cat  \\\n",
       "0   7       0          2              2          5              1   \n",
       "1   9       0          1              1          7              0   \n",
       "2  13       0          5              4          9              1   \n",
       "3  16       0          0              1          2              0   \n",
       "4  17       0          0              2          0              1   \n",
       "5  19       0          5              1          4              0   \n",
       "6  20       0          2              1          3              1   \n",
       "7  22       0          5              1          4              0   \n",
       "8  26       0          5              1          3              1   \n",
       "9  28       1          1              1          2              0   \n",
       "\n",
       "   ps_ind_05_cat  ps_ind_06_bin  ps_ind_07_bin  ps_ind_08_bin  ps_ind_09_bin  \\\n",
       "0              0              0              1              0              0   \n",
       "1              0              0              0              1              0   \n",
       "2              0              0              0              1              0   \n",
       "3              0              1              0              0              0   \n",
       "4              0              1              0              0              0   \n",
       "5              0              0              0              0              1   \n",
       "6              0              0              1              0              0   \n",
       "7              0              1              0              0              0   \n",
       "8              0              0              0              1              0   \n",
       "9              0              0              1              0              0   \n",
       "\n",
       "   ps_ind_10_bin  ps_ind_11_bin  ps_ind_12_bin  ps_ind_13_bin  ps_ind_14  \\\n",
       "0              0              0              0              0          0   \n",
       "1              0              0              0              0          0   \n",
       "2              0              0              0              0          0   \n",
       "3              0              0              0              0          0   \n",
       "4              0              0              0              0          0   \n",
       "5              0              0              0              0          0   \n",
       "6              0              0              0              0          0   \n",
       "7              0              0              0              0          0   \n",
       "8              0              0              0              0          0   \n",
       "9              0              0              0              0          0   \n",
       "\n",
       "   ps_ind_15  ps_ind_16_bin  ps_ind_17_bin  ps_ind_18_bin  ps_reg_01  \\\n",
       "0         11              0              1              0        0.7   \n",
       "1          3              0              0              1        0.8   \n",
       "2         12              1              0              0        0.0   \n",
       "3          8              1              0              0        0.9   \n",
       "4          9              1              0              0        0.7   \n",
       "5          6              1              0              0        0.9   \n",
       "6          8              1              0              0        0.6   \n",
       "7         13              1              0              0        0.7   \n",
       "8          6              1              0              0        0.9   \n",
       "9          4              0              0              1        0.9   \n",
       "\n",
       "   ps_reg_02  ps_reg_03  ps_car_01_cat  ps_car_02_cat  ps_car_03_cat  \\\n",
       "0        0.2   0.718070             10              1             -1   \n",
       "1        0.4   0.766078             11              1             -1   \n",
       "2        0.0  -1.000000              7              1             -1   \n",
       "3        0.2   0.580948              7              1              0   \n",
       "4        0.6   0.840759             11              1             -1   \n",
       "5        1.8   2.332649             10              0             -1   \n",
       "6        0.1   0.617454              6              1             -1   \n",
       "7        0.4   0.607248             11              1              0   \n",
       "8        0.7   0.901388             10              1             -1   \n",
       "9        1.4   2.316652             11              0              0   \n",
       "\n",
       "   ps_car_04_cat  ps_car_05_cat  ps_car_06_cat  ps_car_07_cat  ps_car_08_cat  \\\n",
       "0              0              1              4              1              0   \n",
       "1              0             -1             11              1              1   \n",
       "2              0             -1             14              1              1   \n",
       "3              0              1             11              1              1   \n",
       "4              0             -1             14              1              1   \n",
       "5              0              0             14              1              1   \n",
       "6              0              1             11              1              1   \n",
       "7              0              0             11              1              1   \n",
       "8              0              1             14              1              1   \n",
       "9              1              0             14              1              1   \n",
       "\n",
       "   ps_car_09_cat  ps_car_10_cat  ps_car_11_cat  ps_car_11  ps_car_12  \\\n",
       "0              0              1             12          2   0.400000   \n",
       "1              2              1             19          3   0.316228   \n",
       "2              2              1             60          1   0.316228   \n",
       "3              3              1            104          1   0.374166   \n",
       "4              2              1             82          3   0.316070   \n",
       "5              0              1            104          2   0.445982   \n",
       "6              0              1             99          2   0.316228   \n",
       "7              2              1             30          3   0.446990   \n",
       "8              0              1             68          3   0.400000   \n",
       "9              2              1            104          2   0.447214   \n",
       "\n",
       "   ps_car_13  ps_car_14  ps_car_15  ps_calc_01  ps_calc_02  ps_calc_03  \\\n",
       "0   0.883679   0.370810   3.605551         0.6         0.5         0.2   \n",
       "1   0.618817   0.388716   2.449490         0.3         0.1         0.3   \n",
       "2   0.641586   0.347275   3.316625         0.5         0.7         0.1   \n",
       "3   0.542949   0.294958   2.000000         0.6         0.9         0.1   \n",
       "4   0.565832   0.365103   2.000000         0.4         0.6         0.0   \n",
       "5   0.879049   0.406202   3.000000         0.7         0.8         0.4   \n",
       "6   0.639683   0.368782   3.162278         0.2         0.6         0.5   \n",
       "7   0.900574   0.374833   3.316625         0.1         0.5         0.1   \n",
       "8   0.780641   0.407431   2.828427         0.9         0.8         0.6   \n",
       "9   1.458184   0.390256   3.605551         0.7         0.8         0.8   \n",
       "\n",
       "   ps_calc_04  ps_calc_05  ps_calc_06  ps_calc_07  ps_calc_08  ps_calc_09  \\\n",
       "0           3           1          10           1          10           1   \n",
       "1           2           1           9           5           8           1   \n",
       "2           2           2           9           1           8           2   \n",
       "3           2           4           7           1           8           4   \n",
       "4           2           2           6           3          10           2   \n",
       "5           3           1           8           2          11           3   \n",
       "6           2           2           8           1           8           3   \n",
       "7           1           2           7           1           6           1   \n",
       "8           3           1           7           3           9           4   \n",
       "9           2           2           8           2           9           1   \n",
       "\n",
       "   ps_calc_10  ps_calc_11  ps_calc_12  ps_calc_13  ps_calc_14  ps_calc_15_bin  \\\n",
       "0           5           9           1           5           8               0   \n",
       "1           7           3           1           1           9               0   \n",
       "2           7           4           2           7           7               0   \n",
       "3           2           2           2           4           9               0   \n",
       "4          12           3           1           1           3               0   \n",
       "5           8           4           2           0           9               0   \n",
       "6          10           3           0           0          10               0   \n",
       "7          13           7           1           3           6               1   \n",
       "8          11           4           2           1           5               0   \n",
       "9          11           3           5           0           6               0   \n",
       "\n",
       "   ps_calc_16_bin  ps_calc_17_bin  ps_calc_18_bin  ps_calc_19_bin  \\\n",
       "0               1               1               0               0   \n",
       "1               1               1               0               1   \n",
       "2               1               1               0               1   \n",
       "3               0               0               0               0   \n",
       "4               0               0               1               1   \n",
       "5               1               0               1               1   \n",
       "6               1               0               0               1   \n",
       "7               0               1               0               1   \n",
       "8               1               0               0               0   \n",
       "9               1               0               0               1   \n",
       "\n",
       "   ps_calc_20_bin  \n",
       "0               1  \n",
       "1               0  \n",
       "2               0  \n",
       "3               0  \n",
       "4               0  \n",
       "5               1  \n",
       "6               0  \n",
       "7               0  \n",
       "8               1  \n",
       "9               0  "
      ]
     },
     "execution_count": 19,
     "metadata": {},
     "output_type": "execute_result"
    }
   ],
   "source": [
    "train_df.head(10)"
   ]
  },
  {
   "cell_type": "code",
   "execution_count": 20,
   "id": "19caa388-3d62-4eb5-b91e-74f1ed5c99db",
   "metadata": {
    "scrolled": true
   },
   "outputs": [
    {
     "name": "stdout",
     "output_type": "stream",
     "text": [
      "<class 'pandas.core.frame.DataFrame'>\n",
      "RangeIndex: 595212 entries, 0 to 595211\n",
      "Data columns (total 59 columns):\n",
      " #   Column          Non-Null Count   Dtype  \n",
      "---  ------          --------------   -----  \n",
      " 0   id              595212 non-null  int64  \n",
      " 1   target          595212 non-null  int64  \n",
      " 2   ps_ind_01       595212 non-null  int64  \n",
      " 3   ps_ind_02_cat   595212 non-null  int64  \n",
      " 4   ps_ind_03       595212 non-null  int64  \n",
      " 5   ps_ind_04_cat   595212 non-null  int64  \n",
      " 6   ps_ind_05_cat   595212 non-null  int64  \n",
      " 7   ps_ind_06_bin   595212 non-null  int64  \n",
      " 8   ps_ind_07_bin   595212 non-null  int64  \n",
      " 9   ps_ind_08_bin   595212 non-null  int64  \n",
      " 10  ps_ind_09_bin   595212 non-null  int64  \n",
      " 11  ps_ind_10_bin   595212 non-null  int64  \n",
      " 12  ps_ind_11_bin   595212 non-null  int64  \n",
      " 13  ps_ind_12_bin   595212 non-null  int64  \n",
      " 14  ps_ind_13_bin   595212 non-null  int64  \n",
      " 15  ps_ind_14       595212 non-null  int64  \n",
      " 16  ps_ind_15       595212 non-null  int64  \n",
      " 17  ps_ind_16_bin   595212 non-null  int64  \n",
      " 18  ps_ind_17_bin   595212 non-null  int64  \n",
      " 19  ps_ind_18_bin   595212 non-null  int64  \n",
      " 20  ps_reg_01       595212 non-null  float64\n",
      " 21  ps_reg_02       595212 non-null  float64\n",
      " 22  ps_reg_03       595212 non-null  float64\n",
      " 23  ps_car_01_cat   595212 non-null  int64  \n",
      " 24  ps_car_02_cat   595212 non-null  int64  \n",
      " 25  ps_car_03_cat   595212 non-null  int64  \n",
      " 26  ps_car_04_cat   595212 non-null  int64  \n",
      " 27  ps_car_05_cat   595212 non-null  int64  \n",
      " 28  ps_car_06_cat   595212 non-null  int64  \n",
      " 29  ps_car_07_cat   595212 non-null  int64  \n",
      " 30  ps_car_08_cat   595212 non-null  int64  \n",
      " 31  ps_car_09_cat   595212 non-null  int64  \n",
      " 32  ps_car_10_cat   595212 non-null  int64  \n",
      " 33  ps_car_11_cat   595212 non-null  int64  \n",
      " 34  ps_car_11       595212 non-null  int64  \n",
      " 35  ps_car_12       595212 non-null  float64\n",
      " 36  ps_car_13       595212 non-null  float64\n",
      " 37  ps_car_14       595212 non-null  float64\n",
      " 38  ps_car_15       595212 non-null  float64\n",
      " 39  ps_calc_01      595212 non-null  float64\n",
      " 40  ps_calc_02      595212 non-null  float64\n",
      " 41  ps_calc_03      595212 non-null  float64\n",
      " 42  ps_calc_04      595212 non-null  int64  \n",
      " 43  ps_calc_05      595212 non-null  int64  \n",
      " 44  ps_calc_06      595212 non-null  int64  \n",
      " 45  ps_calc_07      595212 non-null  int64  \n",
      " 46  ps_calc_08      595212 non-null  int64  \n",
      " 47  ps_calc_09      595212 non-null  int64  \n",
      " 48  ps_calc_10      595212 non-null  int64  \n",
      " 49  ps_calc_11      595212 non-null  int64  \n",
      " 50  ps_calc_12      595212 non-null  int64  \n",
      " 51  ps_calc_13      595212 non-null  int64  \n",
      " 52  ps_calc_14      595212 non-null  int64  \n",
      " 53  ps_calc_15_bin  595212 non-null  int64  \n",
      " 54  ps_calc_16_bin  595212 non-null  int64  \n",
      " 55  ps_calc_17_bin  595212 non-null  int64  \n",
      " 56  ps_calc_18_bin  595212 non-null  int64  \n",
      " 57  ps_calc_19_bin  595212 non-null  int64  \n",
      " 58  ps_calc_20_bin  595212 non-null  int64  \n",
      "dtypes: float64(10), int64(49)\n",
      "memory usage: 267.9 MB\n"
     ]
    }
   ],
   "source": [
    "train_df.info()"
   ]
  },
  {
   "cell_type": "code",
   "execution_count": 21,
   "id": "bc8ce211-681c-4510-a85f-c3460abc1c6f",
   "metadata": {},
   "outputs": [],
   "source": [
    "# drop id\n",
    "train_df = train_df.drop(columns=[\"id\"])"
   ]
  },
  {
   "cell_type": "markdown",
   "id": "33d4463f-9d15-4937-a0f6-e4f99b4bb28a",
   "metadata": {},
   "source": [
    "## Data Cleaning"
   ]
  },
  {
   "cell_type": "markdown",
   "id": "808cb19f-0c0b-43ef-8f0f-cd4a238ea2ee",
   "metadata": {},
   "source": [
    "### Missing value check"
   ]
  },
  {
   "cell_type": "code",
   "execution_count": 22,
   "id": "c1c00907-b73f-45c8-bcb1-0244e9839a31",
   "metadata": {
    "scrolled": true
   },
   "outputs": [
    {
     "name": "stdout",
     "output_type": "stream",
     "text": [
      "target                 0\n",
      "ps_ind_01              0\n",
      "ps_ind_02_cat        216\n",
      "ps_ind_03              0\n",
      "ps_ind_04_cat         83\n",
      "ps_ind_05_cat       5809\n",
      "ps_ind_06_bin          0\n",
      "ps_ind_07_bin          0\n",
      "ps_ind_08_bin          0\n",
      "ps_ind_09_bin          0\n",
      "ps_ind_10_bin          0\n",
      "ps_ind_11_bin          0\n",
      "ps_ind_12_bin          0\n",
      "ps_ind_13_bin          0\n",
      "ps_ind_14              0\n",
      "ps_ind_15              0\n",
      "ps_ind_16_bin          0\n",
      "ps_ind_17_bin          0\n",
      "ps_ind_18_bin          0\n",
      "ps_reg_01              0\n",
      "ps_reg_02              0\n",
      "ps_reg_03         107772\n",
      "ps_car_01_cat        107\n",
      "ps_car_02_cat          5\n",
      "ps_car_03_cat     411231\n",
      "ps_car_04_cat          0\n",
      "ps_car_05_cat     266551\n",
      "ps_car_06_cat          0\n",
      "ps_car_07_cat      11489\n",
      "ps_car_08_cat          0\n",
      "ps_car_09_cat        569\n",
      "ps_car_10_cat          0\n",
      "ps_car_11_cat          0\n",
      "ps_car_11              5\n",
      "ps_car_12              1\n",
      "ps_car_13              0\n",
      "ps_car_14          42620\n",
      "ps_car_15              0\n",
      "ps_calc_01             0\n",
      "ps_calc_02             0\n",
      "ps_calc_03             0\n",
      "ps_calc_04             0\n",
      "ps_calc_05             0\n",
      "ps_calc_06             0\n",
      "ps_calc_07             0\n",
      "ps_calc_08             0\n",
      "ps_calc_09             0\n",
      "ps_calc_10             0\n",
      "ps_calc_11             0\n",
      "ps_calc_12             0\n",
      "ps_calc_13             0\n",
      "ps_calc_14             0\n",
      "ps_calc_15_bin         0\n",
      "ps_calc_16_bin         0\n",
      "ps_calc_17_bin         0\n",
      "ps_calc_18_bin         0\n",
      "ps_calc_19_bin         0\n",
      "ps_calc_20_bin         0\n",
      "dtype: int64\n"
     ]
    }
   ],
   "source": [
    "# -1 for each col represents missing value\n",
    "\n",
    "missing_values = train_df.apply(lambda col: (col == -1).sum())\n",
    "print(missing_values)"
   ]
  },
  {
   "cell_type": "code",
   "execution_count": 23,
   "id": "007b0a6b-d36e-4e53-8a2a-a1ff746895eb",
   "metadata": {
    "scrolled": true
   },
   "outputs": [],
   "source": [
    "def fnImputeMissingValuesInDf(df, missing_value):\n",
    "\n",
    "    # SimpleImputer for missing value imputation\n",
    "    imp = SimpleImputer(missing_values=-1, strategy=\"most_frequent\")\n",
    "    \n",
    "    missing_values = train_df.apply(lambda col: (col == missing_value).sum())\n",
    "    #print(missing_values)\n",
    "\n",
    "    # list of columns with missing values\n",
    "    cols_with_missing_values = [index for index, value in missing_values.items() if value > 0]\n",
    "    # print(cols_with_missing_values)\n",
    "\n",
    "    # replace missing values in specific columns\n",
    "    df[cols_with_missing_values] = imp.fit_transform(df[cols_with_missing_values])\n",
    "\n",
    "    return df"
   ]
  },
  {
   "cell_type": "code",
   "execution_count": 24,
   "id": "81b1eba3-2a2f-4233-ad4b-e5351de694f5",
   "metadata": {},
   "outputs": [],
   "source": [
    "train_df = fnImputeMissingValuesInDf(train_df, -1)"
   ]
  },
  {
   "cell_type": "markdown",
   "id": "ba9c01fc-42ff-40ec-a5fe-d5510b1f5552",
   "metadata": {},
   "source": [
    "### Removing duplicates"
   ]
  },
  {
   "cell_type": "code",
   "execution_count": 25,
   "id": "ae1fe443-8889-4882-a5e2-0767b34676f6",
   "metadata": {},
   "outputs": [
    {
     "name": "stdout",
     "output_type": "stream",
     "text": [
      "Count rows before dropping duplicates: 595212\n",
      "Count rows after dropping duplicates: 595212\n"
     ]
    }
   ],
   "source": [
    "# count rows in train_df before dropping duplicates\n",
    "print(f\"Count rows before dropping duplicates: {len(train_df)}\")\n",
    "\n",
    "train_df = train_df.drop_duplicates()\n",
    "print(f\"Count rows after dropping duplicates: {len(train_df)}\")"
   ]
  },
  {
   "cell_type": "markdown",
   "id": "d8c89348-a1fe-4746-96f9-2383ac7a9349",
   "metadata": {},
   "source": [
    "### Data imbalance check"
   ]
  },
  {
   "cell_type": "code",
   "execution_count": 26,
   "id": "f7df840b-0a9b-48b5-9339-524e181c1468",
   "metadata": {},
   "outputs": [
    {
     "data": {
      "text/plain": [
       "target\n",
       "0    573518\n",
       "1     21694\n",
       "dtype: int64"
      ]
     },
     "execution_count": 26,
     "metadata": {},
     "output_type": "execute_result"
    }
   ],
   "source": [
    "# groupby target\n",
    "train_df.groupby(by=\"target\").size()"
   ]
  },
  {
   "cell_type": "markdown",
   "id": "9b3a5fa9-21a0-421c-a249-fc4f9bcb654e",
   "metadata": {},
   "source": [
    "21694 insured car owners filed a claim. \\\n",
    "573518 insured car owners did not file a claim."
   ]
  },
  {
   "cell_type": "code",
   "execution_count": 27,
   "id": "0dd67370-9a86-430f-af80-e53bded4277c",
   "metadata": {
    "scrolled": true
   },
   "outputs": [
    {
     "data": {
      "image/png": "[encoded data removed]",
      "text/plain": [
       "<Figure size 640x480 with 1 Axes>"
      ]
     },
     "metadata": {},
     "output_type": "display_data"
    }
   ],
   "source": [
    "labels=[\"Not Claimed\", \"Claimed\"]\n",
    "\n",
    "claimed_or_not = train_df[\"target\"].value_counts().tolist()\n",
    "values = [claimed_or_not[0],claimed_or_not[1]]\n",
    "colors = sns.color_palette(\"Paired\")\n",
    "\n",
    "plt.pie(values, labels=labels, colors=colors, autopct='%.2f%%')\n",
    "plt.title(\"Claimed vs Not Claimed\")\n",
    "plt.show()"
   ]
  },
  {
   "cell_type": "markdown",
   "id": "c0402d79-58ea-4bb8-ab56-15751142d8f0",
   "metadata": {},
   "source": [
    "##### Dataset is imbalanced.\n",
    "Insured car owners who did not file a claim represent 96.36% of total insured car owners.\\\n",
    "Insured car owners who filed a claim represent 3.64% of total insured car owners."
   ]
  },
  {
   "cell_type": "markdown",
   "id": "6d047833-84b4-4b1e-a90c-54efcc861ab9",
   "metadata": {},
   "source": [
    "Dataset does not contain any duplicates."
   ]
  },
  {
   "cell_type": "markdown",
   "id": "80e893da-817f-4081-b429-1964a748dd98",
   "metadata": {},
   "source": [
    "### Listing features as categorical or numerical"
   ]
  },
  {
   "cell_type": "code",
   "execution_count": 28,
   "id": "72e0fddf-b730-4f62-ae27-178f4cbd2342",
   "metadata": {},
   "outputs": [
    {
     "name": "stdout",
     "output_type": "stream",
     "text": [
      "Count of all lists' elements: 58\n",
      "Count of all columns from X df: 58\n"
     ]
    }
   ],
   "source": [
    "# to get proper split of features, commentary provided by Kaggle competition host was used. See 'Data' section in competation link.\n",
    "\n",
    "# categorical features\n",
    "cat_col_names =  [col for col in train_df.columns if 'cat' in col or 'bin' in col]\n",
    "# cat_col_names\n",
    "\n",
    "# continuous features\n",
    "cont_col_names = [\"ps_reg_01\", \"ps_reg_02\",\t\"ps_reg_03\", \"ps_car_12\", \"ps_car_13\", \"ps_car_14\", \"ps_car_15\", \"ps_calc_01\", \"ps_calc_02\", \"ps_calc_03\"]\n",
    "# cont_col_names\n",
    "\n",
    "# ordinal features\n",
    "ordinal_col_names = [col for col in train_df.columns if col not in cat_col_names and col not in cont_col_names]\n",
    "# ordinal_col_names\n",
    "\n",
    "# check if all column names are added to lists\n",
    "print(f\"Count of all lists' elements: {len(cat_col_names) + len(cont_col_names) + len(ordinal_col_names)}\")\n",
    "print(f\"Count of all columns from X df: {len(train_df.columns.tolist())}\")"
   ]
  },
  {
   "cell_type": "code",
   "execution_count": 29,
   "id": "58b9d62c-f42a-42ab-995f-6472d3aff21a",
   "metadata": {},
   "outputs": [],
   "source": [
    "# add ordinal features to categorical features list\n",
    "cat_col_names = cat_col_names + ordinal_col_names\n",
    "#print(cat_col_names)\n",
    "\n",
    "# treat continuous features as numerical features\n",
    "num_col_names = cont_col_names\n",
    "# print(num_col_names)"
   ]
  },
  {
   "cell_type": "markdown",
   "id": "079b333f-b528-469a-b9c1-a65938386d0b",
   "metadata": {},
   "source": [
    "## Data Splitting"
   ]
  },
  {
   "cell_type": "code",
   "execution_count": 30,
   "id": "0d915953-bbe5-4dc9-b2bc-38da06f48bba",
   "metadata": {},
   "outputs": [],
   "source": [
    "# split train_df to X and y dataframes\n",
    "X, y = train_df.iloc[:,1:], train_df.iloc[:,[0]]"
   ]
  },
  {
   "cell_type": "code",
   "execution_count": 31,
   "id": "36501030-3d82-4093-b800-7bef93dc8cd2",
   "metadata": {},
   "outputs": [],
   "source": [
    "# stratify=y to keep same proportions of classes for target variable\n",
    "X_train, X_test, y_train, y_test = train_test_split(X, y, test_size=0.2, random_state=42, stratify=y)"
   ]
  },
  {
   "cell_type": "code",
   "execution_count": 32,
   "id": "75f00c1b-30f3-4aaf-b7eb-01159894e18b",
   "metadata": {},
   "outputs": [],
   "source": [
    "# keep X_train, y_train as a single dataframe for further operations\n",
    "train_df = pd.concat([X_train, y_train], axis=1)"
   ]
  },
  {
   "cell_type": "markdown",
   "id": "40707731-7bad-4bb5-8811-24a6aeb334cb",
   "metadata": {},
   "source": [
    "## Outliers detection and potential removal"
   ]
  },
  {
   "cell_type": "code",
   "execution_count": 33,
   "id": "be72b8d9-0397-4a0e-8f4a-6f831840c38a",
   "metadata": {},
   "outputs": [],
   "source": [
    "# keep in mind: imbalanced dataset.\n",
    "\n",
    "# IQR\n",
    "def fnDetectOutliers(df, n, num_cols):\n",
    "    \n",
    "    outlier_indices = []\n",
    "\n",
    "    for col in num_cols:\n",
    "        \n",
    "        Q1 = np.percentile(df[col], 25)\n",
    "        Q3 = np. percentile(df[col], 75)\n",
    "        IQR = Q3-Q1\n",
    "        outlier_step = 1.5 * IQR\n",
    "\n",
    "        # indices of outliers in a col\n",
    "        outlier_list_col = df[(df[col] < Q1 - outlier_step) | (df[col] > Q3 + outlier_step)].index\n",
    "\n",
    "        outlier_indices.extend(outlier_list_col)\n",
    "\n",
    "        # select rows with more than n outliers\n",
    "        outlier_indices = Counter(outlier_indices)\n",
    "        multiple_outliers = list(k for k, v in outlier_indices.items() if v > n)\n",
    "\n",
    "        return multiple_outliers"
   ]
  },
  {
   "cell_type": "code",
   "execution_count": 34,
   "id": "1cf48441-4fe7-4a68-a68e-646b58414fa9",
   "metadata": {},
   "outputs": [
    {
     "data": {
      "text/plain": [
       "[]"
      ]
     },
     "execution_count": 34,
     "metadata": {},
     "output_type": "execute_result"
    }
   ],
   "source": [
    "outliers_to_drop = fnDetectOutliers(train_df, 2, num_col_names)\n",
    "outliers_to_drop\n",
    "\n",
    "# potentially no outliers to drop. recheck"
   ]
  },
  {
   "cell_type": "code",
   "execution_count": 35,
   "id": "230a948f-d904-4949-b8a4-751c0a2b38f7",
   "metadata": {},
   "outputs": [],
   "source": [
    "# # dataset check after outliers removal\n",
    "\n",
    "# labels=[\"Not Claimed\", \"Claimed\"]\n",
    "\n",
    "# claimed_or_not = y.value_counts().tolist()\n",
    "# values = [claimed_or_not[0],claimed_or_not[1]]\n",
    "# colors = sns.color_palette(\"husl\")\n",
    "\n",
    "# plt.pie(values, labels=labels, colors=colors, autopct='%.2f%%')\n",
    "# plt.title(\"Claimed vs Not Claimed\")\n",
    "# plt.show()"
   ]
  },
  {
   "cell_type": "markdown",
   "id": "dc7ad099-8ee3-4afb-9f93-d5d798b8fb41",
   "metadata": {},
   "source": [
    "## Data Transformations, EDA"
   ]
  },
  {
   "cell_type": "markdown",
   "id": "9fb1cca6-d2eb-44e6-b590-07515f01b752",
   "metadata": {},
   "source": [
    "#### Data distribution of numerical features"
   ]
  },
  {
   "cell_type": "code",
   "execution_count": 36,
   "id": "c342a4cb-b6b7-4fa2-a454-ec44a6ac7031",
   "metadata": {},
   "outputs": [
    {
     "data": {
      "image/png": "[encoded data removed]",
      "text/plain": [
       "<Figure size 640x480 with 12 Axes>"
      ]
     },
     "metadata": {},
     "output_type": "display_data"
    }
   ],
   "source": [
    "# plot hist for each numerical feature\n",
    "train_df[num_col_names].hist()\n",
    "plt.tight_layout()\n",
    "plt.show()"
   ]
  },
  {
   "cell_type": "code",
   "execution_count": 37,
   "id": "65f5af34-cf3b-4db7-b868-62cc453943b7",
   "metadata": {
    "scrolled": true
   },
   "outputs": [
    {
     "data": {
      "image/png": "[encoded data removed]",
      "text/plain": [
       "<Figure size 800x500 with 4 Axes>"
      ]
     },
     "metadata": {},
     "output_type": "display_data"
    }
   ],
   "source": [
    "# closer look at 'ps_calc_01', 'ps_calc_02', 'ps_calc_03'\n",
    "ps_calc_cols = [\"ps_calc_01\", \"ps_calc_02\", \"ps_calc_03\"]\n",
    "\n",
    "# setting min, max, interval for y-axis\n",
    "start = 45000\n",
    "end = 50000\n",
    "interval = 1000\n",
    "\n",
    "axes = train_df[ps_calc_cols].hist(figsize=(8,5))\n",
    "\n",
    "for ax in axes.flatten():\n",
    "    \n",
    "    # get max and min for y-axis\n",
    "    ax.set_ylim(start, end)\n",
    "\n",
    "    # set y-axis ticks\n",
    "    ax.set_yticks(range(int(start), int(end), interval))\n",
    "\n",
    "plt.tight_layout()\n",
    "plt.show()"
   ]
  },
  {
   "cell_type": "markdown",
   "id": "601ff252-d048-4450-84d4-53eb60689dfa",
   "metadata": {},
   "source": [
    "#### Standarization"
   ]
  },
  {
   "cell_type": "code",
   "execution_count": 38,
   "id": "57656f69-75cf-4563-82f7-6eb74718beb3",
   "metadata": {
    "scrolled": true
   },
   "outputs": [
    {
     "name": "stdout",
     "output_type": "stream",
     "text": [
      "Means of features before standarization:\n",
      " ps_reg_01     0.6109\n",
      "ps_reg_02     0.4396\n",
      "ps_reg_03     0.8471\n",
      "ps_car_12     0.3799\n",
      "ps_car_13     0.8132\n",
      "ps_car_14     0.3737\n",
      "ps_car_15     3.0661\n",
      "ps_calc_01    0.4501\n",
      "ps_calc_02    0.4496\n",
      "ps_calc_03    0.4499\n",
      "dtype: float64\n",
      "\n",
      "Standard deviations of features before standarization:\n",
      " ps_reg_01     0.2877\n",
      "ps_reg_02     0.4046\n",
      "ps_reg_03     0.3282\n",
      "ps_car_12     0.0583\n",
      "ps_car_13     0.2245\n",
      "ps_car_14     0.0441\n",
      "ps_car_15     0.7315\n",
      "ps_calc_01    0.2873\n",
      "ps_calc_02    0.2869\n",
      "ps_calc_03    0.2871\n",
      "dtype: float64\n"
     ]
    }
   ],
   "source": [
    "means = train_df[num_col_names].mean()\n",
    "stds = train_df[num_col_names].std()\n",
    "\n",
    "print(\"Means of features before standarization:\\n\", round(means,4))\n",
    "print(\"\\nStandard deviations of features before standarization:\\n\", round(stds,4))"
   ]
  },
  {
   "cell_type": "code",
   "execution_count": 39,
   "id": "3cc3a7ba-b9d7-4cbc-8350-6ccdf736b85d",
   "metadata": {},
   "outputs": [],
   "source": [
    "# standarization\n",
    "def fnStandardScaler(df, col_names):\n",
    "    scaled_values = StandardScaler().fit_transform(df[col_names])\n",
    "    df[col_names] = scaled_values\n",
    "    return df"
   ]
  },
  {
   "cell_type": "code",
   "execution_count": 40,
   "id": "ddebdb33-d378-4de6-9157-c754acc24bb3",
   "metadata": {
    "scrolled": true
   },
   "outputs": [],
   "source": [
    "train_df = fnStandardScaler(train_df, num_col_names)\n",
    "#train_df"
   ]
  },
  {
   "cell_type": "code",
   "execution_count": 41,
   "id": "988a65f2-5317-4c28-8bca-97c8273d9330",
   "metadata": {
    "scrolled": true
   },
   "outputs": [
    {
     "name": "stdout",
     "output_type": "stream",
     "text": [
      "Means of standardized features:\n",
      " ps_reg_01    -0.0\n",
      "ps_reg_02     0.0\n",
      "ps_reg_03     0.0\n",
      "ps_car_12    -0.0\n",
      "ps_car_13     0.0\n",
      "ps_car_14    -0.0\n",
      "ps_car_15     0.0\n",
      "ps_calc_01   -0.0\n",
      "ps_calc_02    0.0\n",
      "ps_calc_03    0.0\n",
      "dtype: float64\n",
      "\n",
      "Standard deviations of standardized features:\n",
      " ps_reg_01     1.0\n",
      "ps_reg_02     1.0\n",
      "ps_reg_03     1.0\n",
      "ps_car_12     1.0\n",
      "ps_car_13     1.0\n",
      "ps_car_14     1.0\n",
      "ps_car_15     1.0\n",
      "ps_calc_01    1.0\n",
      "ps_calc_02    1.0\n",
      "ps_calc_03    1.0\n",
      "dtype: float64\n"
     ]
    }
   ],
   "source": [
    "# check if standarization was correctly applied\n",
    "\n",
    "means = train_df[num_col_names].mean()\n",
    "stds = train_df[num_col_names].std()\n",
    "\n",
    "print(\"Means of standardized features:\\n\", round(means,4))\n",
    "print(\"\\nStandard deviations of standardized features:\\n\", round(stds,4))\n",
    "\n",
    "## check distribution after standarization\n",
    "# train_df[num_col_names].hist()\n",
    "# plt.tight_layout()\n",
    "# plt.show()"
   ]
  },
  {
   "cell_type": "markdown",
   "id": "ad57225f-005a-4fe1-8e1a-b901948b86d1",
   "metadata": {},
   "source": [
    "#### Power Transformer"
   ]
  },
  {
   "cell_type": "code",
   "execution_count": 42,
   "id": "ce31eb88-04dd-4f0d-bac7-5aa53bf739a6",
   "metadata": {},
   "outputs": [
    {
     "data": {
      "image/png": "[encoded data removed]",
      "text/plain": [
       "<Figure size 640x480 with 12 Axes>"
      ]
     },
     "metadata": {},
     "output_type": "display_data"
    }
   ],
   "source": [
    "# Yeo-Johnson as currently also negative values appear in train_df\n",
    "power = PowerTransformer(method='yeo-johnson', standardize=True)\n",
    "train_df[num_col_names] = power.fit_transform(train_df[num_col_names])\n",
    "\n",
    "# check distribution after power transform\n",
    "train_df[num_col_names].hist()\n",
    "plt.tight_layout()\n",
    "plt.show()"
   ]
  },
  {
   "cell_type": "code",
   "execution_count": 43,
   "id": "445afd87-22ab-42ff-ab0b-cbcc9a51d390",
   "metadata": {},
   "outputs": [],
   "source": [
    "# pca --> consider another branch"
   ]
  },
  {
   "cell_type": "markdown",
   "id": "68f34ebf-ac25-4bdb-b758-a53a64b40eec",
   "metadata": {},
   "source": [
    "## Feature Selection"
   ]
  },
  {
   "cell_type": "code",
   "execution_count": 44,
   "id": "982e9d1a-0277-413f-9409-78d0727f7d58",
   "metadata": {},
   "outputs": [],
   "source": [
    "selector = SelectKBest(score_func=mutual_info_classif, k=10)\n",
    "X_train_copy = selector.fit_transform(X_train, y_train)\n",
    "\n",
    "selected_indices = selector.get_support(indices=True)\n",
    "selected_features = X_train.columns[selected_indices].to_list()\n",
    "# print(\"Selected Features:\\n\", selected_features)"
   ]
  },
  {
   "cell_type": "code",
   "execution_count": 45,
   "id": "76ab9d13-1ab0-417f-bc11-e4d26f7a267b",
   "metadata": {},
   "outputs": [
    {
     "data": {
      "image/png": "[encoded data removed]",
      "text/plain": [
       "<Figure size 2500x2500 with 110 Axes>"
      ]
     },
     "metadata": {},
     "output_type": "display_data"
    }
   ],
   "source": [
    "# visualize pairplot with selected features\n",
    "sns.pairplot(X_train[selected_features])\n",
    "plt.tight_layout()\n",
    "plt.show()"
   ]
  },
  {
   "cell_type": "markdown",
   "id": "62af5404-7734-4058-9d86-01d87fc00650",
   "metadata": {},
   "source": [
    "## Model Training"
   ]
  },
  {
   "cell_type": "markdown",
   "id": "b8e9744a-3b66-456f-9112-808ad13bcca7",
   "metadata": {},
   "source": [
    "#### Preparation"
   ]
  },
  {
   "cell_type": "code",
   "execution_count": 46,
   "id": "c60701ad-8061-4fed-bc51-b99fb37a2178",
   "metadata": {},
   "outputs": [],
   "source": [
    "selected_features.append(\"target\")"
   ]
  },
  {
   "cell_type": "code",
   "execution_count": 47,
   "id": "60322af1-a7bf-405b-8e78-f94095e75176",
   "metadata": {},
   "outputs": [],
   "source": [
    "# select only columns suggested in Feature Selection\n",
    "train_df = train_df[selected_features]\n",
    "\n",
    "# Split back into X_train and y_train\n",
    "X_train = train_df.drop(columns=[\"target\"])\n",
    "y_train = train_df[\"target\"]"
   ]
  },
  {
   "cell_type": "code",
   "execution_count": 48,
   "id": "332f2506-7f18-41b9-89d7-a59946b3c5e1",
   "metadata": {},
   "outputs": [],
   "source": [
    "# X_test --> select only proper features\n",
    "test_df = pd.concat([X_test, y_test], axis=1)\n",
    "\n",
    "X_test = test_df[selected_features]\n",
    "X_test = X_test.drop(columns=[\"target\"])\n",
    "\n",
    "y_test = test_df[\"target\"]"
   ]
  },
  {
   "cell_type": "code",
   "execution_count": 49,
   "id": "054fce59-1827-4ab2-9d93-5f924ae41d68",
   "metadata": {},
   "outputs": [],
   "source": [
    "# proper transformations for test data to be applied, e.g. standarization --> check if necessary at all"
   ]
  },
  {
   "cell_type": "markdown",
   "id": "7f1246f1-4fe4-4a49-ac81-b33947cd88cc",
   "metadata": {},
   "source": [
    "#### Logistic Regression"
   ]
  },
  {
   "cell_type": "code",
   "execution_count": 50,
   "id": "3929ed9c-65f1-4367-8250-e6d692b5b89c",
   "metadata": {},
   "outputs": [],
   "source": [
    "# model = DecisionTreeClassifier()\n",
    "model = LogisticRegression()"
   ]
  },
  {
   "cell_type": "code",
   "execution_count": 51,
   "id": "e13db65c-11e3-4fd2-b4cd-8c9174705cd7",
   "metadata": {},
   "outputs": [],
   "source": [
    "model.fit(X_train, y_train);"
   ]
  },
  {
   "cell_type": "code",
   "execution_count": 52,
   "id": "0318af4b-3ef5-48af-ae8d-f4d24a075248",
   "metadata": {},
   "outputs": [
    {
     "name": "stdout",
     "output_type": "stream",
     "text": [
      "Classes: [0 1]\n"
     ]
    }
   ],
   "source": [
    "# Check the class ordering\n",
    "print(\"Classes:\", model.classes_)"
   ]
  },
  {
   "cell_type": "code",
   "execution_count": 53,
   "id": "6f32188a-5ee2-450c-8cd5-eeb2d4ca87ae",
   "metadata": {},
   "outputs": [],
   "source": [
    "# y_pred = model.predict(X_test)\n",
    "y_pred_prob = model.predict_proba(X_test)[:,1]"
   ]
  },
  {
   "cell_type": "code",
   "execution_count": 54,
   "id": "a12a5564-4c49-47e2-9b7d-49fed248aff0",
   "metadata": {},
   "outputs": [
    {
     "data": {
      "text/plain": [
       "array([0.04203362, 0.06540269, 0.02907615, ..., 0.04468124, 0.02869652,\n",
       "       0.02685501])"
      ]
     },
     "execution_count": 54,
     "metadata": {},
     "output_type": "execute_result"
    }
   ],
   "source": [
    "y_pred_prob"
   ]
  },
  {
   "cell_type": "code",
   "execution_count": 55,
   "id": "c4555003-7872-440f-9bbe-89b25134da25",
   "metadata": {},
   "outputs": [],
   "source": [
    "# log loss\n",
    "logreg_log_loss = log_loss(y_test, y_pred_prob)\n",
    "# print(f\"Log Loss: {logreg_log_loss:.5f}\")\n",
    "\n",
    "# ROC AUC\n",
    "logreg_roc_auc = roc_auc_score(y_test, y_pred_prob)\n",
    "# print(f\"ROC AUC: {logreg_roc_auc:.5f}\")\n",
    "\n",
    "# Brier Score\n",
    "logreg_brier_score = brier_score_loss(y_test, y_pred_prob)\n",
    "# print(f\"Brier Score: {logreg_brier_score:.5f}\")"
   ]
  },
  {
   "cell_type": "markdown",
   "id": "d85b6d3c-7fc1-461f-b236-9d693185c906",
   "metadata": {},
   "source": [
    "#### K Neighbors Classifier"
   ]
  },
  {
   "cell_type": "code",
   "execution_count": 56,
   "id": "b2d2c0d4-dba0-42eb-89e2-55e88dbf1047",
   "metadata": {},
   "outputs": [],
   "source": [
    "model = KNeighborsClassifier(n_neighbors=5)"
   ]
  },
  {
   "cell_type": "code",
   "execution_count": 57,
   "id": "d771c05b-f022-4f92-b195-f465a82585fd",
   "metadata": {},
   "outputs": [],
   "source": [
    "model.fit(X_train, y_train);"
   ]
  },
  {
   "cell_type": "code",
   "execution_count": 58,
   "id": "60a9aef0-e8d7-44bf-a36f-7b62c6e91324",
   "metadata": {},
   "outputs": [],
   "source": [
    "y_pred_prob = model.predict_proba(X_test)[:,1]"
   ]
  },
  {
   "cell_type": "code",
   "execution_count": 59,
   "id": "7bdd08c3-0442-4954-b8ab-a56882d2e960",
   "metadata": {},
   "outputs": [],
   "source": [
    "knn_clf_log_loss = log_loss(y_test, y_pred_prob)\n",
    "knn_clf_roc_auc = roc_auc_score(y_test, y_pred_prob)\n",
    "knn_clf_brier_score = brier_score_loss(y_test, y_pred_prob)"
   ]
  },
  {
   "cell_type": "markdown",
   "id": "3c88ac77-c1fb-49e4-b34d-5658dfc1d600",
   "metadata": {},
   "source": [
    "## Model evaluation"
   ]
  },
  {
   "cell_type": "code",
   "execution_count": 60,
   "id": "9cad5964-72fd-4377-b0ca-8cc901445c8d",
   "metadata": {},
   "outputs": [
    {
     "data": {
      "text/html": [
       "<div>\n",
       "<style scoped>\n",
       "    .dataframe tbody tr th:only-of-type {\n",
       "        vertical-align: middle;\n",
       "    }\n",
       "\n",
       "    .dataframe tbody tr th {\n",
       "        vertical-align: top;\n",
       "    }\n",
       "\n",
       "    .dataframe thead th {\n",
       "        text-align: right;\n",
       "    }\n",
       "</style>\n",
       "<table border=\"1\" class=\"dataframe\">\n",
       "  <thead>\n",
       "    <tr style=\"text-align: right;\">\n",
       "      <th></th>\n",
       "      <th>Model</th>\n",
       "      <th>Log Loss Score</th>\n",
       "      <th>ROC AUC Score</th>\n",
       "      <th>Brier Score</th>\n",
       "    </tr>\n",
       "  </thead>\n",
       "  <tbody>\n",
       "    <tr>\n",
       "      <th>0</th>\n",
       "      <td>Logistic Regression</td>\n",
       "      <td>0.155288</td>\n",
       "      <td>0.572208</td>\n",
       "      <td>0.035031</td>\n",
       "    </tr>\n",
       "    <tr>\n",
       "      <th>1</th>\n",
       "      <td>K Neighbors Classifier</td>\n",
       "      <td>1.088719</td>\n",
       "      <td>0.506622</td>\n",
       "      <td>0.041979</td>\n",
       "    </tr>\n",
       "  </tbody>\n",
       "</table>\n",
       "</div>"
      ],
      "text/plain": [
       "                    Model  Log Loss Score  ROC AUC Score  Brier Score\n",
       "0     Logistic Regression        0.155288       0.572208     0.035031\n",
       "1  K Neighbors Classifier        1.088719       0.506622     0.041979"
      ]
     },
     "execution_count": 60,
     "metadata": {},
     "output_type": "execute_result"
    }
   ],
   "source": [
    "models = pd.DataFrame({\n",
    "    \"Model\":[\"Logistic Regression\",\"K Neighbors Classifier\"], \n",
    "    \"Log Loss Score\":[logreg_log_loss, knn_clf_log_loss],\n",
    "    \"ROC AUC Score\":[logreg_roc_auc, knn_clf_roc_auc],\n",
    "    \"Brier Score\":[logreg_brier_score, knn_clf_brier_score]\n",
    "})\n",
    "models"
   ]
  },
  {
   "cell_type": "markdown",
   "id": "e3ba130e-2296-4a6e-ba54-a4cfcdf68c63",
   "metadata": {},
   "source": [
    "## Hyperparameter tuning"
   ]
  },
  {
   "cell_type": "code",
   "execution_count": 61,
   "id": "28110b91-d3a1-49f4-92f6-4f5d9b6ee7e7",
   "metadata": {},
   "outputs": [],
   "source": [
    "# tbc"
   ]
  }
 ],
 "metadata": {
  "kernelspec": {
   "display_name": "Python 3 (ipykernel)",
   "language": "python",
   "name": "python3"
  },
  "language_info": {
   "codemirror_mode": {
    "name": "ipython",
    "version": 3
   },
   "file_extension": ".py",
   "mimetype": "text/x-python",
   "name": "python",
   "nbconvert_exporter": "python",
   "pygments_lexer": "ipython3",
   "version": "3.11.7"
  }
 },
 "nbformat": 4,
 "nbformat_minor": 5
}
